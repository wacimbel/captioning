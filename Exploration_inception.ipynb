{
 "cells": [
  {
   "cell_type": "code",
   "execution_count": 1,
   "metadata": {
    "collapsed": true
   },
   "outputs": [],
   "source": [
    "import tensorflow as tf\n",
    "import tensornets.tensornets as nets\n",
    "\n",
    "inputs = tf.placeholder(tf.float32, [None, 224, 224, 3])\n",
    "model = nets.Inception3(inputs)\n",
    "\n",
    "assert isinstance(model, tf.Tensor)"
   ]
  },
  {
   "cell_type": "code",
   "execution_count": 5,
   "metadata": {
    "collapsed": false
   },
   "outputs": [],
   "source": [
    "from tensornets.tensornets import utils\n",
    "img = utils.load_img('tensornets/cat.png', target_size=256, crop_size=224)\n",
    "assert img.shape == (1, 224, 224, 3)"
   ]
  },
  {
   "cell_type": "code",
   "execution_count": 6,
   "metadata": {
    "collapsed": false
   },
   "outputs": [
    {
     "name": "stdout",
     "output_type": "stream",
     "text": [
      "Downloading data from https://github.com/taehoonlee/deep-learning-models/releases/download/inception/inception3.h5\n"
     ]
    }
   ],
   "source": [
    "with tf.Session() as sess:\n",
    "    nets.pretrained(model)\n",
    "    img = nets.preprocess(model, img)\n",
    "    preds = sess.run(model, {inputs: img})"
   ]
  },
  {
   "cell_type": "code",
   "execution_count": 7,
   "metadata": {
    "collapsed": false
   },
   "outputs": [
    {
     "name": "stdout",
     "output_type": "stream",
     "text": [
      "[('n02123045', 'tabby', 0.46353039), ('n02123159', 'tiger_cat', 0.43464491)]\n"
     ]
    },
    {
     "data": {
      "text/plain": [
       "[('n02124075', 'Egyptian_cat', 0.28067636), ('n02127052', 'lynx', 0.16826575)]"
      ]
     },
     "execution_count": 7,
     "metadata": {},
     "output_type": "execute_result"
    }
   ],
   "source": [
    "print(utils.decode_predictions(preds, top=2)[0])\n",
    "[(u'n02124075', u'Egyptian_cat', 0.28067636), (u'n02127052', u'lynx', 0.16826575)]"
   ]
  },
  {
   "cell_type": "code",
   "execution_count": null,
   "metadata": {
    "collapsed": true
   },
   "outputs": [],
   "source": [
    "def cnn(inputs):\n",
    "    model = nets.Inception2(inputs)\n",
    "    return model"
   ]
  },
  {
   "cell_type": "code",
   "execution_count": null,
   "metadata": {
    "collapsed": false
   },
   "outputs": [],
   "source": []
  },
  {
   "cell_type": "code",
   "execution_count": null,
   "metadata": {
    "collapsed": true
   },
   "outputs": [],
   "source": []
  }
 ],
 "metadata": {
  "kernelspec": {
   "display_name": "Python [capt]",
   "language": "python",
   "name": "Python [capt]"
  },
  "language_info": {
   "codemirror_mode": {
    "name": "ipython",
    "version": 3
   },
   "file_extension": ".py",
   "mimetype": "text/x-python",
   "name": "python",
   "nbconvert_exporter": "python",
   "pygments_lexer": "ipython3",
   "version": "3.6.2"
  }
 },
 "nbformat": 4,
 "nbformat_minor": 0
}
